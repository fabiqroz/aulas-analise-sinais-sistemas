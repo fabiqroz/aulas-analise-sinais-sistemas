{
 "cells": [
  {
   "cell_type": "markdown",
   "metadata": {},
   "source": [
    "# Notações matemáticas adotadas"
   ]
  },
  {
   "cell_type": "markdown",
   "metadata": {},
   "source": [
    "* Escalares serão sempre representados por letras minúsculas simples.\n",
    "  \n",
    "  Ex.: $a$\n",
    "  \n",
    "* Os vetores de coluna são escritos com letras minúsculas em negrito (por exemplo, \\mathbf{a}) ou entre colchetes, e os componentes dos sistemas de coordenadas 3-D são rotulados $(x, y, z)$:\n",
    "  \n",
    "  Ex.: $\\mathbf{v} = \\begin{pmatrix} v_x \\\\ v_y \\\\ v_z \\end{pmatrix}$\n",
    "\n",
    "* O comprimento ou “norma” de um vetor é indicado pelo mesmo nome, mas em estilo simples.\n",
    "* \n",
    "  Ex.: $v = |\\mathbf{v}| = \\sqrt{\\sum_i{v_i^2}} $\n",
    "\n",
    "* Multiplicações por escalares são denotadas por  $\\ast$:\n",
    "  \n",
    "  Ex.:. $tan(\\theta/2) \\ast n$"
   ]
  },
  {
   "cell_type": "markdown",
   "metadata": {},
   "source": [
    "# Matemática Básica"
   ]
  },
  {
   "cell_type": "markdown",
   "metadata": {},
   "source": [
    "## Produto escalar\n",
    "\n",
    "O produto escalar entre dois vetores $\\mathbf{a}$ e $\\mathbf{b}$ é definido como:\n",
    "\n",
    "$\\begin{pmatrix} a_x \\\\ a_y \\\\ a_z \\end{pmatrix} \\cdot \\begin{pmatrix} b_x \\\\ b_y \\\\ b_z \\end{pmatrix} = a_xb_x + a_yb_y + a_zb_z = |a| \\ast|b| \\ast \\cos(\\theta)$"
   ]
  },
  {
   "cell_type": "markdown",
   "metadata": {},
   "source": [
    "<img src=\"/figs/produto_escalar.png\" width=\"800\" />"
   ]
  },
  {
   "cell_type": "markdown",
   "metadata": {},
   "source": []
  }
 ],
 "metadata": {
  "language_info": {
   "name": "python"
  }
 },
 "nbformat": 4,
 "nbformat_minor": 2
}
