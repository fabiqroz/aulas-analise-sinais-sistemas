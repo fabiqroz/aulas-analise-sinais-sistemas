{
 "cells": [
  {
   "cell_type": "markdown",
   "metadata": {},
   "source": [
    "# Matemática Básica"
   ]
  },
  {
   "cell_type": "markdown",
   "metadata": {},
   "source": [
    "## Notações matemáticas adotadas"
   ]
  },
  {
   "cell_type": "markdown",
   "metadata": {},
   "source": [
    "* Escalares serão sempre representados por letras minúsculas simples.\n",
    "  \n",
    "  Ex.: $a$\n",
    "  \n",
    "* Os vetores de coluna são escritos com letras minúsculas em negrito (por exemplo, \\mathbf{a}) ou entre parentesis, e os componentes dos sistemas de coordenadas 3-D são rotulados $(x, y, z)$:\n",
    "  \n",
    "  Ex.: $\\mathbf{v} = \\begin{pmatrix} v_x \\\\ v_y \\\\ v_z \\end{pmatrix}$\n",
    "\n",
    "* O comprimento ou “norma” de um vetor é indicado pelo mesmo nome, mas em estilo simples.\n",
    "* \n",
    "  Ex.: $v = |\\mathbf{v}| = \\sqrt{\\sum_i{v_i^2}} $\n",
    "\n",
    "* Matrizes são escritas com letras maiúsculas em negrito ou delimitadas por colchetes:\n",
    "  \n",
    "  Ex.:  $ \\mathbf{R} = \\begin{bmatrix} R_{xx} & R_{xy} & R_{xz}\\\\ R_{yx} & R_{yy} & R_{yz}\\\\ R_{zx} & R_{zy} & R_{zz} \\end{bmatrix}$\n",
    "\n",
    "* Multiplicações por escalares são denotadas por  $\\ast$:\n",
    "  \n",
    "  Ex.:. $tan(\\theta/2) \\ast n$\n",
    "\n",
    "* Produtos escalares e multiplicações de matrizes são denotados por $\\cdot$:\n",
    "  \n",
    "  Ex.:  $\\mathbf{p} · \\mathbf{q}$"
   ]
  },
  {
   "cell_type": "markdown",
   "metadata": {},
   "source": [
    "## Produto escalar\n",
    "\n",
    "O produto escalar entre dois vetores $\\mathbf{a}$ e $\\mathbf{b}$ é definido como:\n",
    "\n",
    "$\\begin{pmatrix} a_x \\\\ a_y \\\\ a_z \\end{pmatrix} \\cdot \\begin{pmatrix} b_x \\\\ b_y \\\\ b_z \\end{pmatrix} = a_xb_x + a_yb_y + a_zb_z = |a| \\ast|b| \\ast \\cos(\\theta)$"
   ]
  },
  {
   "cell_type": "markdown",
   "metadata": {},
   "source": [
    "<img src=\"../figs/produto_escalar.png\" alt=\"sample\" width=\"500\">"
   ]
  },
  {
   "cell_type": "code",
   "execution_count": 35,
   "metadata": {},
   "outputs": [
    {
     "data": {
      "image/png": "[encoded data removed]",
      "text/plain": [
       "<Figure size 640x480 with 1 Axes>"
      ]
     },
     "metadata": {},
     "output_type": "display_data"
    },
    {
     "name": "stdout",
     "output_type": "stream",
     "text": [
      " Produto escalar entre a e b: 5.0\n"
     ]
    }
   ],
   "source": [
    "import numpy as np \n",
    "import matplotlib.pyplot as plt\n",
    "\n",
    "a = np.array([1,2])\n",
    "b = np.array([4,0.5])\n",
    "\n",
    "plt.quiver([0], [0], a[0], a[1], color='teal', units='xy', scale=1) \n",
    "plt.quiver([0], [0], b[0], b[1], color='firebrick', units='xy', scale=1) \n",
    "plt.xlim(0, 5) \n",
    "plt.ylim(0, 1.5) \n",
    "plt.grid(linestyle='--')\n",
    "plt.show() \n",
    "\n",
    "print(f\" Produto escalar entre a e b: {np.dot(a,b)}\")\n"
   ]
  },
  {
   "cell_type": "markdown",
   "metadata": {},
   "source": [
    "## Multiplicação de Matrizes\n",
    "\n",
    "$A \\cdot B = C$\n",
    "\n",
    "$C_{ik} = \\sum_j A_{ij}B_{jk}$"
   ]
  },
  {
   "cell_type": "code",
   "execution_count": 44,
   "metadata": {},
   "outputs": [
    {
     "name": "stdout",
     "output_type": "stream",
     "text": [
      "[[4 1]\n",
      " [2 2]]\n"
     ]
    }
   ],
   "source": [
    "A = np.array([[1, 0],\n",
    "              [0, 1]])\n",
    "B = np.array([[4, 1],\n",
    "              [2, 2]])\n",
    "print(np.matmul(A,B))\n",
    "# print(A@B)"
   ]
  },
  {
   "cell_type": "markdown",
   "metadata": {},
   "source": [
    "## Trigonometria \n"
   ]
  },
  {
   "cell_type": "markdown",
   "metadata": {},
   "source": [
    "\n",
    "<img src=\"../figs/trigonometria.png\" alt=\"sample\" width=\"600\">"
   ]
  },
  {
   "cell_type": "markdown",
   "metadata": {},
   "source": [
    "## Números complexos e a fórmula de Euler\n",
    "\n",
    "Números complexos são aqueles que possuem uma parte real $a$ e uma parte imaginária  $b$. \n",
    "\n",
    "Sabendo-se que $j = \\sqrt(-1)$ é uma unidade imaginária, um número complexo $c$ pode ser escrito como:\n",
    "\n",
    "$c = a + j \\ast b$\n",
    "\n",
    "O conjugado $c^*$ de $c$ é dado por:\n",
    "\n",
    "$c^* = a - j \\ast b$"
   ]
  },
  {
   "cell_type": "markdown",
   "metadata": {},
   "source": []
  },
  {
   "cell_type": "markdown",
   "metadata": {},
   "source": [
    "# Python para processamento de sinais\n"
   ]
  },
  {
   "cell_type": "markdown",
   "metadata": {},
   "source": [
    "[Explorando pacotes do PyPi](https://pypi.org/)"
   ]
  },
  {
   "cell_type": "markdown",
   "metadata": {},
   "source": [
    "\n",
    "<img src=\"../figs/signal_processing_pck.png\" alt=\"sample\" width=\"600\">"
   ]
  },
  {
   "cell_type": "markdown",
   "metadata": {},
   "source": [
    "* `numpy` : para travalhar com vetores e arrays\n",
    "* `scipy` : para trabalhar com algotitmos científicos\n",
    "* `pandas`: para trabalhar com Dataframes\n",
    "* `matplotlib` : para visualizações\n",
    "* `jupyter nootebooks`: para trabalhar com ambientes interativos"
   ]
  },
  {
   "cell_type": "markdown",
   "metadata": {},
   "source": []
  }
 ],
 "metadata": {
  "kernelspec": {
   "display_name": "aulas",
   "language": "python",
   "name": "python3"
  },
  "language_info": {
   "codemirror_mode": {
    "name": "ipython",
    "version": 3
   },
   "file_extension": ".py",
   "mimetype": "text/x-python",
   "name": "python",
   "nbconvert_exporter": "python",
   "pygments_lexer": "ipython3",
   "version": "3.9.16"
  }
 },
 "nbformat": 4,
 "nbformat_minor": 2
}
