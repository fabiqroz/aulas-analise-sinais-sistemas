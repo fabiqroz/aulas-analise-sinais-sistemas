{
 "cells": [
  {
   "cell_type": "markdown",
   "metadata": {},
   "source": [
    "# Questão 1: Transladando pontos"
   ]
  },
  {
   "cell_type": "markdown",
   "metadata": {},
   "source": [
    "Escreva um script em python que:\n",
    "1. Especifique dois pontos $P_0 = (0,0)$ e $P_1 = (2,1)$, em que cada ponto deve ser expresso por um objeto do tipo `list`;\n",
    "2. Combine os dois pontos em um array numpy (`np.array`)\n",
    "3. Translade os dados pela adição de 3 unidades à primeira coordenada e 1 unidade à segunda coordenada;\n",
    "4. Plote uma linha do ponto $P_0$ até o ponto $P_1$ e, no mesmo gráfico (`plot`) també plote uma linha (de diferente cor) a partir dos pontos transladados."
   ]
  },
  {
   "cell_type": "code",
   "execution_count": null,
   "metadata": {},
   "outputs": [],
   "source": [
    "# Sua resposta aqui (se achar prudente, adcione mais células de códigos em python)"
   ]
  },
  {
   "cell_type": "markdown",
   "metadata": {},
   "source": [
    "# Questão 2: Rotacionando um vetor"
   ]
  },
  {
   "cell_type": "markdown",
   "metadata": {},
   "source": []
  },
  {
   "cell_type": "code",
   "execution_count": null,
   "metadata": {},
   "outputs": [],
   "source": [
    "# Sua resposta aqui (se achar prudente, adcione mais células de códigos em python)"
   ]
  }
 ],
 "metadata": {
  "language_info": {
   "name": "python"
  }
 },
 "nbformat": 4,
 "nbformat_minor": 2
}
