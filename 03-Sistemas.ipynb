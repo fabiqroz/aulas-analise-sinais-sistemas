{
 "cells": [
  {
   "cell_type": "markdown",
   "metadata": {},
   "source": [
    "<a id=\"0\"></a> <br>\n",
    "\n",
    "# Conteúdo da aula\n",
    "1. [Sistemas](#chapter1)  \n",
    "2. [Exemplo de modelagem de um sistema: Sistemas elétricos](#section_1_2) \n",
    "3. [Propriedades de sistemas](#chapter2) \n",
    "    "
   ]
  },
  {
   "cell_type": "markdown",
   "metadata": {},
   "source": [
    "**Fontes**: \n",
    "\n",
    "(Edition 4.0) Signals and Systems, Published 2022 by Michael Adams ISBN-13: 978-1-990707-00-1, ISBN: 1-990707-00-9\n",
    "\n",
    "(2º Edição) Sinais e Sistemas Lineares, Puvlicado em 2004 - Tradução do original Linear Systems and Signals, 2E, por B. P. Lathi, ISBN 0-19-515833-4"
   ]
  },
  {
   "cell_type": "markdown",
   "metadata": {},
   "source": [
    "# Sistemas <a class=\"anchor\" id=\"chapter1\"></a>"
   ]
  },
  {
   "cell_type": "markdown",
   "metadata": {},
   "source": [
    "Um sistema é uma entidade que processa um ou mais sinais de entrada e produz um ou mais sinais de saída. \n",
    "\n",
    "<img src =\"figs/system.png\"  width = \"400\">"
   ]
  },
  {
   "cell_type": "markdown",
   "metadata": {},
   "source": [
    "A teoria de sistemas envolve uma grande variedade de sistemas, tais como elétricos, mecânicos, hidráulicos, acústicos, eletromecânicos e químicos, além de sistemas sociais, políticos, econômicos, biológicos...\n",
    "\n",
    "Um sistema pode ser uma **entidade física**, constituída por componentes físicos (implementação em hardware) ou pode ser uma **entidade abstrata**, constituída po um algoritmo que calcula o sinal de saída a partir de um sinal de entrada (implementação em software)."
   ]
  },
  {
   "cell_type": "markdown",
   "metadata": {},
   "source": [
    "Falando genericamente, um sistema físico é constituído por componentes interconectados, os quais são caracterizados por sua relação terminal (entrada/saída). Além disso, o sistema é governado pelas leis de interconexão.\n",
    "\n",
    "Por exemplo, em sistemas elétricos, as relações terminais são as relações tensão/corrente que conhecemos para resistores, capacitores, indutores, transformadores, transistores e assim por diante, além das leis de interconexão (por exemplo, leis de Kirchhoff). \n",
    "\n",
    "Usando estas leis, podemos determinar equações matemáticas relacionando as saídas às entradas de um sistema. Estas equações, então, representam o **modelo matemático** do sistema."
   ]
  },
  {
   "cell_type": "markdown",
   "metadata": {},
   "source": [
    "O estudo de sistemas consiste em três grandes áreas: modelagem matemática, **análise** e **projeto**. O foco dessa disciplina está na **análise de sistemas**."
   ]
  },
  {
   "cell_type": "markdown",
   "metadata": {},
   "source": [
    "## Notação matemática"
   ]
  },
  {
   "cell_type": "markdown",
   "metadata": {},
   "source": [
    "Suponha que tenhamos um sistema $\\mathcal{H}$ com entrada $x(t)$ e saída $y(t)$. Tal sistema pode ser descrito matematicamente pela equação:\n",
    "\n",
    "$$y = \\mathcal{H}x$$\n",
    "\n",
    "onde $\\mathcal{H}$ é um operador (ou seja, transformação) que representa o sistema. \n",
    "O operador $\\mathcal{H}$ simplesmente mapeia a função de entrada $x$ para a função de saída $y$. \n",
    "\n",
    "Alternativamente, usamos a notação:\n",
    "\n",
    "$$x \\xrightarrow{\\mathcal{H}}  y\\;\\; \\text{ou}\\;\\; \\mathcal{H}: x \\rightarrow y$$\n",
    "\n",
    "\n",
    "ou de maneira resumida:\n",
    "\n",
    "$$x \\rightarrow  y$$"
   ]
  },
  {
   "cell_type": "markdown",
   "metadata": {},
   "source": [
    "### Representação de sistemas por Diagrama de Blocos"
   ]
  },
  {
   "cell_type": "markdown",
   "metadata": {},
   "source": [
    "<img src =\"figs/sis.png\"  width = \"400\">"
   ]
  },
  {
   "cell_type": "markdown",
   "metadata": {},
   "source": [
    "Os sistemas podem ser interconectados de diversas maneiras. Dois tipos básicos de conexões são mostrados abaixo: \n",
    "\n",
    "* conexão em série ou em cascata. $x \\rightarrow y = \\mathcal{H}_2\\mathcal{H}_1x$ \n",
    "* conexão em paralelo. $x \\rightarrow y = \\mathcal{H}_1x + \\mathcal{H}_2x$  "
   ]
  },
  {
   "cell_type": "markdown",
   "metadata": {},
   "source": [
    "<img src =\"figs/sis_serie_paralelo.png\"  width = \"600\">"
   ]
  },
  {
   "cell_type": "markdown",
   "metadata": {},
   "source": [
    "# Exemplo de modelagem de um sistema: Sistemas elétricos <a class=\"anchor\" id=\"section_1_1\"></a>"
   ]
  },
  {
   "cell_type": "markdown",
   "metadata": {},
   "source": [
    "O primeiro passo na análise de um sistema é a construção do modelo do sistema $\\mathcal{H}$, o qual é a expressão matemática ou regra que aproxima satisfatoriamente o comportamento dinâmico do sistema. \n",
    "\n",
    "Aqui, vamos dar um exemplo de um sistema contínuo no tempo:\n",
    "\n",
    " ### Um circuito elétrico\n",
    "\n",
    "Para construir um modelo de um sistema $\\mathcal{H}$, devemos estudar as **relações entre as diferentes variáveis do sistema**. No caso dos sistemas elétricos, temos:\n",
    "\n",
    "* a relação tensão-corrente de cada elemento do circuito (tal como a lei de Ohm para o resistor).\n",
    "* as várias relações nas tensões e correntes quando vários elementos estão conectados(leis de interconexão de Kirchoff para tensão e corrente - TKT e LKC)\n",
    "\n",
    "###  Equação de entrada-saída para o circuito RC:\n",
    "\n",
    "Vejamos o circuito RC representado na Figura abaixo. \n",
    "\n",
    "<img src = \"figs/rc_simples.png\" width = \"300\">\n",
    "\n",
    "Se consideramos \n",
    "* $ v_s(t)$ como o a tensão de entrada,\n",
    "* $i(t)$ como a corrente e \n",
    "* $v_c(t)$ como o sinal de saída (tensão no capacitor)\n",
    "  \n",
    "Podemos usar a análise simples do circuito para obter uma equação descrevendo a relação entre a entrada e a saída:\n",
    "\n",
    "$$v_s \\xrightarrow{\\mathcal{H}} v_c$$\n",
    "\n",
    "<!-- <img src = \"figs/rc_simples1.png\" width = \"350\"> -->\n",
    "\n",
    "$$v_c(t) = Ri(t) + \\frac{1}{C} \\int_{-\\infty}^{t} i(\\tau) d\\tau$$\n",
    "\n",
    "🟡 a partir da lei de Ohm, a corrente $i(t)$ que passa pelo resistor é proporcional à queda de tensão no resistor:\n",
    "\n",
    "$$i(t) = \\frac{v_R(t)}{R}$$\n",
    "\n",
    "🟡 do mesmo modo, podemos relacionar $i(t)$ à taxa de mudança da tensão no decorrer do tempo no capacitor:\n",
    "\n",
    "$$i(t) = C \\frac{dv_c}{dt}$$\n",
    "\n",
    "\n",
    "🟨  🟨 A análise de circuitos RC é feita aplicando as leis de Kirchhoff em que $\\sum i(t) = 0$:\n",
    "\n",
    "$$\\frac{v_R(t)}{R} + C \\frac{dv_c}{dt} = 0$$\n",
    "\n",
    "e portanto: \n",
    "\n",
    "$$\\frac{dv_c}{dt} = -\\frac{1}{RC} v_R(t)  $$"
   ]
  },
  {
   "cell_type": "code",
   "execution_count": null,
   "metadata": {},
   "outputs": [],
   "source": [
    "# importanto pacote \n",
    "import numpy as np\n",
    "from scipy.integrate import odeint #módulo para trabalhar com eq. dif.\n",
    "import matplotlib.pyplot as plt\n",
    "# Figuras com saída formatada ara expressões matemáticas\n",
    "plt.rcParams['text.usetex'] = True"
   ]
  },
  {
   "cell_type": "code",
   "execution_count": null,
   "metadata": {},
   "outputs": [],
   "source": [
    "# funcao que retorna dv_c/dt\n",
    "def dv_dt(v,t, R,C):\n",
    "    dvdt = -(1/(C*R)) * v\n",
    "    return dvdt"
   ]
  },
  {
   "cell_type": "code",
   "execution_count": null,
   "metadata": {},
   "outputs": [],
   "source": [
    "# Condicao inicial do sistema\n",
    "v_s = 10 #volts\n",
    "# parametros do sistema\n",
    "C=0.5 #farad\n",
    "R=2 #ohm\n",
    "\n",
    "# Taxa de amostragem do sinal que iremos gerar\n",
    "n = 1000\n",
    "# Amostrando o sinal no tempo\n",
    "t = np.linspace(1, 10, n)\n",
    "\n",
    "v = odeint(dv_dt, v_s, t, args=(R,C))\n",
    "\n",
    "# plot results\n",
    "plt.plot(t,v)\n",
    "plt.xlabel('Tempo')\n",
    "plt.ylabel('v(t) - Volts')\n",
    "plt.grid(linestyle=':')\n",
    "plt.show() "
   ]
  },
  {
   "cell_type": "markdown",
   "metadata": {},
   "source": [
    "### Extensão do sistema acima para o sistema RLC:\n",
    "\n",
    "<img src = \"figs/rlc.png\" width = \"350\">\n",
    "\n",
    "➡️ Para o caso do sinal de entrada ser a tensão na fonte $v_s(t)$ e o sinal de saída ser a tensão no capacitor $v_c(t)$:\n",
    "\n",
    "$$ v_s \\xrightarrow{\\mathcal{H}} v_c$$\n",
    "\n",
    "$$v_c(t) =  L\\frac{di}{dt} + Ri(t) + \\frac{1}{C} \\int_{-\\infty}^{t} i(\\tau) d\\tau$$\n",
    "\n",
    "🟡 a partir da lei de Ohm, a corrente $i(t)$ que passa pelo resistor é proporcional à queda de tensão no resistor:\n",
    "\n",
    "$$i(t) = \\frac{v_R(t)}{R}$$\n",
    "\n",
    "🟡 do mesmo modo, podemos relacionar $i(t)$ à taxa de mudança da tensão no decorrer do tempo no capacitor:\n",
    "\n",
    "$$i(t) = C \\frac{dv_c}{dt}$$\n",
    "\n",
    "🟡 igualmente, podemos relacionar $i(t)$ à taxa de mudança da tensão no decorrer do tempo no indutor:\n",
    "\n",
    "$$i(t) = \\frac{1}{L} \\int_{0}^{t} v_l(\\tau) d\\tau$$\n",
    "\n",
    "🟨  🟨  Relacionando $i(t)$ à taxa de mudança da tensão no decorrer do tempo no indutor, resistor e capacitor:\n",
    "\n",
    "\n",
    "$$\\frac{1}{L} \\int_{0}^{t} v_l(\\tau) d\\tau + \\frac{v_r(t)}{R} + C \\frac{dv_c}{dt} = 0$$\n",
    "\n",
    "$$\\frac{dv_c}{dt} = -\\frac{1}{LC} \\int_{0}^{t} v_l(\\tau) d\\tau - \\frac{v_r(t)}{RC}$$\n",
    "\n",
    "<!-- Para o sistema do exemplo:\n",
    "\n",
    "$$ \\int_{0}^{t} v_l(\\tau) d\\tau + \\frac{1}{3}v_r(t) + \\frac{1}{2} \\frac{dv_c}{dt} = 0$$ -->\n",
    "\n",
    "<!-- ## Voltando ao sistema RLC: -->\n",
    "\n",
    "➡️ Para o caso do sinal de entrada ser a tensão na fonte $v_s(t) = x(t)$ e o sinal de saída, a corrente de saída (corrente de malha) $ i(t) = y(t)$.\n",
    "\n",
    "$$v_s \\xrightarrow{\\mathcal{H}} i$$\n",
    "\n",
    "\n",
    "🟡 Aplicando a lei de Kirchhoff das tensões para a malha teremos,\n",
    "$$ v_L(t) + v_R(t) + v_C(t) = v_s(t)$$\n",
    "\n",
    "🟡 Utilizando as leis de tensão-corrente de cada elemento (indutor, resistor e capacitor), podemos escrever\n",
    "esta equação como:\n",
    "\n",
    "$$L\\frac{di}{dt} + Ri(t) + \\frac{1}{C} \\int_{-\\infty}^{t} i(\\tau) d\\tau = v_s(t)$$\n",
    "<!-- $$\\frac{di}{dt} + 3i(t) + 2 \\int_{-\\infty}^{t} i(\\tau) d\\tau = v_s(t)$$ -->\n",
    "\n",
    "🟨  🟨 Diferenciando ambos os lados da equação:\n",
    "\n",
    "$$\\frac{dv_s}{dt} = \\frac{d^2i}{d^2t} + 3\\frac{di}{dt} + 2i(t) $$"
   ]
  },
  {
   "cell_type": "markdown",
   "metadata": {},
   "source": [
    "# Propriedades de sistemas <a class=\"anchor\" id=\"chapter2\"></a>"
   ]
  },
  {
   "cell_type": "markdown",
   "metadata": {},
   "source": [
    "## Sistemas instantâneos e dinâmicos <a class=\"anchor\" id=\"section_2_3\"></a>"
   ]
  },
  {
   "cell_type": "markdown",
   "metadata": {},
   "source": [
    "\n",
    "Um sistema $\\mathcal{H}$ é dito instantâneo (ou sem memória) se, para cada instante $t_0$, $y(t_0)$ não depende de $x(t)$ para $t \\neq t_0$.\n",
    "\n",
    "<!-- A saída de um sistema em um instante $t$ qualquer geralmente depende de todo o passado da entrada. Entretanto, em uma classe especial de sistemas, a saída a qualquer instante $t$ depende apenas da entrada naquele instante. -->\n",
    "\n",
    "Nestes sistemas, a história passada é irrelevante na determinação da resposta. \n",
    "\n",
    "Caso contrário, o sistema é chamado de **dinâmico** (ou **sistema com memória**).\n",
    "\n",
    "### Exemplos:\n",
    "\n",
    "Um **amplificador Ideal**: Instantêneo\n",
    "$$x(t) \\xrightarrow{\\mathcal{H}} y(t) = a x(t)$$ \n",
    "\n",
    "com $a$ sendo uma constante diferente de zero.\n",
    "\n",
    "Um **integrador Ideal**: Dinâmico com memória infinita\n",
    "$$x(t) \\xrightarrow{\\mathcal{H}} y(t) =  \\int_{-\\infty}^{t} i(\\tau) d\\tau$$ \n",
    "\n",
    "com $a$ sendo uma constante diferente de zero.\n",
    "\n",
    "* Um sistema apenas resistivo é um sistema sem (sem memória).\n",
    "* Um sistema RLC é um sistema com dinâmico com mémoria infinita.\n",
    "\n",
    "### Exercícios:\n",
    "\n",
    "1. Determine se o sistema abaixo é sem memória ou com memória:\n",
    "   $$x(t) \\xrightarrow{\\mathcal{H}} y(t) = e^{x(t)} $$\n",
    "2. Determine se o sistema abaixo é sem memória ou com memória:\n",
    "   $$x(t) \\xrightarrow{\\mathcal{H}} y(t) = impar(x)(t) = \\frac{1}{2}[x(t)-x(-t)]$$"
   ]
  },
  {
   "cell_type": "markdown",
   "metadata": {},
   "source": [
    "## Sistemas causais e não causais <a class=\"anchor\" id=\"section_2_4\"></a>"
   ]
  },
  {
   "cell_type": "markdown",
   "metadata": {},
   "source": [
    "\n",
    "Para que o sistema seja **causal**, ele deve ser **dependende apenas de valores passados**. \n",
    "\n",
    "Um sistema $\\mathcal{H}$ é dito causal se, para cada valor $t_0$, $y(t_0)$ não depende de $x(t)$ para  $t >t_0$.\n",
    "\n",
    "Quando a variável independente do sinal é o tempo, os sistemas causais são sistemas praticamente ou fisicamente realizáveis. \n",
    "\n",
    "### Exemplos \n",
    "\n",
    "1. Um **integrador Ideal**: Causal\n",
    "$$x(t) \\xrightarrow{\\mathcal{H}} y(t) =  \\int_{-\\infty}^{t} i(\\tau) d\\tau$$ \n",
    "\n",
    "2. Um sistema $\\mathcal{H}$: Não causal\n",
    "\n",
    "$$x(t) \\xrightarrow{\\mathcal{H}} y(t) =  \\int_{t-1}^{t+1} i(\\tau) d\\tau$$ \n",
    "\n",
    "### Exercício: \n",
    "\n",
    "Como trasnformar o sistema do exemplo 2 em um sistema causal?"
   ]
  },
  {
   "cell_type": "markdown",
   "metadata": {},
   "source": [
    "### Exemplos (Pytthon):"
   ]
  },
  {
   "cell_type": "markdown",
   "metadata": {},
   "source": [
    "🔵 Sinal de entrada:\n",
    "\n",
    "$x(t) = t$   \n",
    "\n",
    "🔵 Sistema 1:\n",
    "\n",
    "$x(t) \\xrightarrow{\\mathcal{H_1}} y(t) = x(t)$"
   ]
  },
  {
   "cell_type": "code",
   "execution_count": null,
   "metadata": {},
   "outputs": [],
   "source": [
    "# Taxa de amostragem do sinal \n",
    "n = 1000\n",
    "# Definindo o domínio no tempo\n",
    "t = np.linspace(0, 10, n)\n",
    "\n",
    "# Entrada : x(t) = t\n",
    "x = lambda t : t\n",
    "# Saida: y(t) = x(t)\n",
    "y = x\n",
    "\n",
    "# Visualizacao\n",
    "plt.plot(t,x(t), color='darkorange', linewidth=4, alpha = 0.5)\n",
    "plt.plot(t,y(t), color='green', linestyle='dashed')\n",
    "plt.xlabel('Tempo')\n",
    "plt.ylabel('Amplitude')\n",
    "plt.legend([r\"$x(t) = t$\", r\"$y(t) = x(t)$\"])\n",
    "plt.grid(linestyle='--')\n",
    "plt.show()"
   ]
  },
  {
   "cell_type": "markdown",
   "metadata": {},
   "source": [
    "🟢 Aqui, o sinal $y(t)$ depende apenas dos valores atuais de $x(t)$. \n",
    "\n",
    "Por exemplo, se substituirmos $t = 3$, o resultado $y(t=3)$ será exibido apenas para aquele instante de tempo. Portanto, como não depende de valor futuro de $t$, podemos chamá-lo de **sistema Causal**."
   ]
  },
  {
   "cell_type": "markdown",
   "metadata": {},
   "source": [
    "🔵  Sistema 2: \n",
    "\n",
    "$x(t) \\xrightarrow{\\mathcal{H_2}} y(t) = x(t-1)$"
   ]
  },
  {
   "cell_type": "code",
   "execution_count": null,
   "metadata": {},
   "outputs": [],
   "source": [
    "# saida = y(t) = x(t-1)\n",
    "y = lambda t: x(t-1)\n",
    "\n",
    "# Visualizacao\n",
    "plt.plot(t,x(t), color='darkorange', linewidth=2)\n",
    "plt.plot(t,y(t), color='green', linestyle='dashed')\n",
    "plt.xlabel('Tempo')\n",
    "plt.ylabel('Amplitude')\n",
    "plt.legend([r\"$x(t) = t$\", r\"$y(t) = x(t-1)$\"])\n",
    "plt.grid(linestyle='--')\n",
    "plt.show() "
   ]
  },
  {
   "cell_type": "markdown",
   "metadata": {},
   "source": [
    "🟢 Aqui, o sistema depende de valores passados de $x(t)$. \n",
    "\n",
    "Por exemplo, se substituirmos $t = 3$, a expressão será reduzida para $x(t=2)$, que é um valor passado em relação à nossa entrada. Em nenhum caso,$y(t)$ depende de valores futuros. Portanto, esse sistema também é um **sistema causal**."
   ]
  },
  {
   "cell_type": "markdown",
   "metadata": {},
   "source": [
    "🔵  Sistema 3: \n",
    "\n",
    "$x(t) \\xrightarrow{\\mathcal{H_3}} y(t) = x(t)+x(t+1)$"
   ]
  },
  {
   "cell_type": "code",
   "execution_count": null,
   "metadata": {},
   "outputs": [],
   "source": [
    "# saida = y(t)\n",
    "y = lambda t: x(t) + x(t+1)\n",
    "\n",
    "# Visualizacao\n",
    "plt.plot(t,x(t), color='darkorange', linewidth=2)\n",
    "plt.plot(t,y(t), color='green', linestyle='dashed')\n",
    "plt.xlabel('Tempo')\n",
    "plt.ylabel('Amplitude')\n",
    "plt.legend([r\"$x(t) = t$\", r\"$y(t) = x(t+1)$\"])\n",
    "plt.grid(linestyle='--')\n",
    "plt.show() "
   ]
  },
  {
   "cell_type": "markdown",
   "metadata": {},
   "source": [
    "🟢 Neste caso, o sistema tem duas partes:\n",
    "* a parte $x(t)$, como discutimos anteriormente, depende apenas dos valores presentes. Portanto, não há nenhum problema com isso. \n",
    "* No entanto, $x(t+1)$ depende claramente dos valores futuros porque se colocarmos $t = 1$, a expressão se reduzirá a $x(t=2)$ que é o valor futuro. Portanto, o sistema **não é causal**."
   ]
  },
  {
   "cell_type": "markdown",
   "metadata": {},
   "source": [
    "A discussão anterior pode sugerir que sistemas não causais não possuem objetivos práticos. Este não é o caso. \n",
    "\n",
    "Eles são importantes no estudo de sistemas por diversas razões. \n",
    "\n",
    "* sistemas não causais são realizáveis quando a variável independente for outra que não o “tempo” (por exemplo, o espaço).\n",
    "* Considere, por exemplo, uma carga elétrica de densidade q(x) colocada ao longo do eixo x para x ≥ 0. Esta densidade de carga produz um campo elétrico E(x) que está presente em todo ponto do eixo x de x=−∞ a ∞. Neste caso, a entrada [isto é, a densidade de carga\n",
    "q(x)] começa em x = 0, mas sua saída [o campo elétrico E(x)] começa antes de x = 0. Claramente, este sistema de carga espacial é não causal."
   ]
  },
  {
   "cell_type": "markdown",
   "metadata": {},
   "source": [
    "## Sistemas inversíveis e não inversíveis <a class=\"anchor\" id=\"section_2_7\"></a>"
   ]
  },
  {
   "cell_type": "markdown",
   "metadata": {},
   "source": [
    "\n",
    "\n",
    "Se pudermos obter a entrada $x(t)$ da saída $y(t)$ correspondente através de alguma operação, o sistema $\\mathcal{H}$ é dito ser inversível. \n",
    "\n",
    "O inverso de um sistema $\\mathcal(H)$ é um sistema $\\mathcal(H^{-1})$ tal que, para todo sinal de entrada $x$:\n",
    "\n",
    "$\\mathcal{H^{-1}}\\mathcal{H} x(t) = x(t)$\n",
    "\n",
    "\n",
    "### Exemplo:\n",
    "\n",
    "Se $\\mathcal{H}$ é um integrador ideal, então o sistema inverso $\\mathcal{H^{-1}}$ é um diferenciador ideal.\n",
    "\n",
    "<img src = \"figs/sis_inv.png\" width = \"600\">\n",
    "\n",
    "### Exercícios:\n",
    "\n",
    "1. Determine se o sistema abaixo é inversível:\n",
    "   $$x(t) \\rightarrow y(t) = x(t-t_0)$$\n",
    "<!-- 2. Determine se o sistema abaixo é inversível:\n",
    "   $$x(t) \\rightarrow y(t) = 3x(3t-3)$$ -->\n",
    "2. Determine se o sistema abaixo é inversível:\n",
    "   $$x(t) \\rightarrow y(t) = sen(x(t))$$\n"
   ]
  },
  {
   "cell_type": "markdown",
   "metadata": {},
   "source": [
    "## Sistemas estáveis e instáveis <a class=\"anchor\" id=\"section_2_8\"></a>\n"
   ]
  },
  {
   "cell_type": "markdown",
   "metadata": {},
   "source": [
    "\n",
    "Os sistemas também podem ser classificados como estáveis ou instáveis. \n",
    "\n",
    "A estabilidade pode ser interna ou externa.\n",
    "\n",
    "O conceito de estabilidade interna será explorado mais a frente, pois requer algum conhecimento do comportamento interno do sistema a ser apresentado no próximo capítulo.\n",
    "\n",
    "Se cada entrada limitada aplicada ao terminal de entrada resultar em uma saída limitada, o sistema é dito ser externamente estável. A estabilidade externa pode ser verificada pela medição dos terminais externos (entrada e saída) do sistema. Este tipo de estabilidade também é conhecida como estabilidade no sentido **BIBO** (bounded-input/bounded-output).\n",
    "\n",
    "Um sistema $\\mathcal{H}$ é BIBO estável se, para cada função limitada $x$, $y$ também é limitado (ou seja, $|x(t)| < \\infty$ para todo $t$ implica que $|y(t)| < \\infty$ para todo t.\n",
    "\n",
    "### Exercício:\n",
    "\n",
    "1. Determine se o sistema é estavel (BIBO):\n",
    "   $$x(t) \\rightarrow y(t) = x^2(t)$$\n",
    "2. Determine se o sistema é estavel (BIBO):\n",
    "    $$x(t) \\rightarrow y(t) = \\int_{-\\infty}^t u(\\tau) d\\tau$$\n"
   ]
  },
  {
   "cell_type": "markdown",
   "metadata": {},
   "source": [
    "## Sistemas lineares e não lineares <a class=\"anchor\" id=\"section_2_1\"></a>"
   ]
  },
  {
   "cell_type": "markdown",
   "metadata": {},
   "source": [
    "### Conceito de linearidade <a class=\"anchor\" id=\"section_2_1_1\"></a>"
   ]
  },
  {
   "cell_type": "markdown",
   "metadata": {},
   "source": [
    "**Um sistema cuja saída seja proporcional a sua entrada é um exemplo de um sistema linear.**\n",
    "\n",
    "Sejam $x_1$ e $x_2$ dois sinais de entrada de um sistema e $y_1$ e $y_2$ dois sinais de saída deste mesmo sistema, se o sistema é linear, este atende a propriedade da **aditividade**, ou seja\n",
    "\n",
    "<img src = \"figs/sl_homogeneidade.png\" width = \"400\"><br>\n",
    "\n",
    "Além disso, um sistema linear deve satisfazer a propriedade de **homogeneidade ou escalamento**, a qual afirma que para uma número real ou imaginário arbitrário $k$, se uma entrada aumentar $k$ vezes, seu efeito também aumentará $k$ vezes. Portanto, se\n",
    "\n",
    "<img src = \"figs/sl_aditividade.png\" width = \"400\">\n",
    "\n",
    "Logo, a linearidade implica duas propriedades: homogeneidade (escalamento) e aditividade.† As duas propriedades podem ser combinadas em uma única propriedade (superposição), a qual é descrita como mostrado a\n",
    "seguir. Se,\n",
    "\n",
    "<img src = \"figs/sl_superposicao.png\" width = \"400\">"
   ]
  },
  {
   "cell_type": "markdown",
   "metadata": {},
   "source": [
    "### Exercícios: Respostas de sistemas lineares e não lineares <a class=\"anchor\" id=\"section_2_1_2\"></a>\n",
    "\n"
   ]
  },
  {
   "cell_type": "markdown",
   "metadata": {},
   "source": [
    "Um sistema  $\\mathcal{H}$ é linear, se:\n",
    "\n",
    "$x\\xrightarrow{\\mathcal{H}} y$\n",
    "\n",
    "$y(k_1x_1 + k_2x_2) = k_1y_1 + k_2y_2$\n",
    "\n",
    "<img src = \"figs/sis_lin.png\" width = \"800\">"
   ]
  },
  {
   "cell_type": "markdown",
   "metadata": {},
   "source": [
    "🟡 Sistema 1:\n",
    "\n",
    "$x(t) \\xrightarrow{\\mathcal{H}} y(t) = sen(t)x(t)$"
   ]
  },
  {
   "cell_type": "markdown",
   "metadata": {},
   "source": [
    "Este sistema é linear? 🧐🧐🧐"
   ]
  },
  {
   "cell_type": "markdown",
   "metadata": {},
   "source": [
    "🟡 Verificação (no python):\n",
    "\n",
    "🟠 Sinais de entrada\n",
    "\n",
    "$x_1(t) = t$ \n",
    "\n",
    "$x_2(t) = t^2$\n",
    "\n",
    "🟠 Combinação linear dos sinais $x_1(t)$ e $x_2(t)$:\n",
    "\n",
    "$x(t)  = k_1x_1(t) + k_2x_2(t)$"
   ]
  },
  {
   "cell_type": "code",
   "execution_count": 8,
   "metadata": {},
   "outputs": [],
   "source": [
    "# Taxa de amostragem do sinal \n",
    "n = 1000\n",
    "# Definindo o domínio no tempo\n",
    "t = np.linspace(0, 10, n)"
   ]
  },
  {
   "cell_type": "code",
   "execution_count": 9,
   "metadata": {},
   "outputs": [],
   "source": [
    "# Entradas: x1(t) e x2(t)\n",
    "x1 = lambda t : t\n",
    "x2 = lambda t : t**2\n",
    "\n",
    "# Definindo x(t) como a comb. linear de x1(t) e x2(t)\n",
    "k1 = -1\n",
    "k2 = 2\n",
    "x = lambda t: k1*x1(t) + k2*x2(t)"
   ]
  },
  {
   "cell_type": "code",
   "execution_count": 10,
   "metadata": {},
   "outputs": [],
   "source": [
    "# saida y(t) dos sistema para a entrada x(t)\n",
    "y = lambda t: np.sin(t)*x(t)"
   ]
  },
  {
   "cell_type": "code",
   "execution_count": null,
   "metadata": {},
   "outputs": [],
   "source": [
    "# visualizando a entrada x(t) e saida y(t)\n",
    "plt.plot(t,x(t), color='magenta', linewidth=2)\n",
    "plt.plot(t,y(t), color='blue', linewidth=4 )\n",
    "plt.xlabel('Tempo')\n",
    "plt.ylabel('Amplitude')\n",
    "plt.legend([r\"$x(t)=a_1x_1(t) + a_2x_2(t)$\", r\"$y(t) = x(t)sen(t)$\"])\n",
    "plt.grid(linestyle='--')\n",
    "plt.show() "
   ]
  },
  {
   "cell_type": "code",
   "execution_count": 11,
   "metadata": {},
   "outputs": [],
   "source": [
    "# Saídas: y1(t) e y2(t)\n",
    "y1 = lambda t: np.sin(t)*x1(t)\n",
    "y2 = lambda t: np.sin(t)*x2(t)\n",
    "\n",
    "# Definindo a saída esperada y(t) como a comb. linear de y1(t) e y2(t)\n",
    "y_esp = lambda t: k1*y1(t) + k2*y2(t)"
   ]
  },
  {
   "cell_type": "code",
   "execution_count": null,
   "metadata": {},
   "outputs": [],
   "source": [
    "# visualidando a saida do sistema y(t) e a saída y(t) esperada \n",
    "plt.plot(t, y(t), color='blue', linewidth=4, alpha=0.5)\n",
    "plt.plot(t, y_esp(t), color='cyan', linestyle='dashed')\n",
    "plt.xlabel('Tempo')\n",
    "plt.ylabel('Amplitude')\n",
    "plt.legend([\"saida sistema: $y(t) = x(t)sen(t)$\", \"saida esperada: $y^*(t) = a_1y_1(t) + a_2y_2(t)$\"])\n",
    "plt.grid(linestyle=':')\n",
    "plt.show() "
   ]
  },
  {
   "cell_type": "markdown",
   "metadata": {},
   "source": [
    "🟣 Como a saída do sistema e a saída esperada do sistema são iguais, podemos dizer que esta se trata de um **sistema linear**."
   ]
  },
  {
   "cell_type": "markdown",
   "metadata": {},
   "source": [
    "🟡 Sistema 2\n",
    "\n",
    "$x(t) \\xrightarrow{\\mathcal{H}} y(t) = sen(x(t))$"
   ]
  },
  {
   "cell_type": "markdown",
   "metadata": {},
   "source": [
    "🟡 Verificação (no python):"
   ]
  },
  {
   "cell_type": "code",
   "execution_count": null,
   "metadata": {},
   "outputs": [],
   "source": [
    "# saida y(t) dos sistema para a entrada x(t)\n",
    "y = lambda t: np.sin(x(t))"
   ]
  },
  {
   "cell_type": "code",
   "execution_count": null,
   "metadata": {},
   "outputs": [],
   "source": [
    "# visualizando a entrada x(t) e saida y(t)\n",
    "plt.plot(t,x(t), color='magenta', linewidth=2)\n",
    "plt.plot(t,y(t), color='blue', linewidth=4)\n",
    "plt.xlabel('Tempo')\n",
    "plt.ylabel('Amplitude')\n",
    "plt.legend([r\"$x(t)=a_1x_1(t) + a_2x_2(t)$\", r\"$y(t) = sen(x(t))$\"])\n",
    "plt.grid(linestyle='--')\n",
    "plt.show() "
   ]
  },
  {
   "cell_type": "code",
   "execution_count": null,
   "metadata": {},
   "outputs": [],
   "source": [
    "# Saídas: y1(t) e y2(t)\n",
    "y1 = lambda t: np.sin(x1(t))\n",
    "y2 = lambda t: np.sin(x2(t))\n",
    "\n",
    "\n",
    "# Definindo a saída esperada y(t) como a comb. linear de y1(t) e y2(t)\n",
    "y_esp = lambda t: k1*y1(t) + k2*y2(t)"
   ]
  },
  {
   "cell_type": "code",
   "execution_count": null,
   "metadata": {},
   "outputs": [],
   "source": [
    "# visualidando a saida do sistema y(t) e a saída y(t) esperada \n",
    "plt.plot(t, y(t), color='blue', linewidth=4, alpha=0.5)\n",
    "plt.plot(t, y_esp(t), color='cyan', linestyle='dashed')\n",
    "plt.xlabel('Tempo')\n",
    "plt.ylabel('Amplitude')\n",
    "plt.legend([\"saida sistema: $y(t) = sen(x(t))$\", \"saida esperada: $y^*(t) = a_1y_1(t) + a_2y_2(t)$\"])\n",
    "plt.grid(linestyle=':')\n",
    "plt.show() "
   ]
  },
  {
   "cell_type": "markdown",
   "metadata": {},
   "source": [
    "🟣 Como a saída do sistema e a saída esperada do sistema não são iguais, podemos dizer que esta se trata de um **sistema não linear**."
   ]
  },
  {
   "cell_type": "markdown",
   "metadata": {},
   "source": [
    "### Mais um exercício\n",
    "\n",
    "<img src = \"figs/ex_linearidade.png\" width = \"700\">"
   ]
  },
  {
   "cell_type": "markdown",
   "metadata": {},
   "source": [
    "## Sistemas invariantes e variantes no tempo <a class=\"anchor\" id=\"section_2_2\"></a>"
   ]
  },
  {
   "cell_type": "markdown",
   "metadata": {},
   "source": [
    "Sistemas cujos parâmetros não são alterados com o tempo são invariantes no tempo (também chamados de sistemas com parâmetros constantes). \n",
    "\n",
    "Para tais sistemas, se a entrada for atrasada por $t_0$ segundos, a saída é a mesma anterior, porém atrasada também por $t_0$ segundos (assumindo que as condições iniciais também sejam atrasadas $t_0$ segundos)."
   ]
  },
  {
   "cell_type": "markdown",
   "metadata": {},
   "source": [
    "<img src = \"figs/sit1.png\" width = \"600\">\n",
    "<br>\n",
    "<img src = \"figs/sit2.png\" width = \"600\">\n"
   ]
  },
  {
   "cell_type": "markdown",
   "metadata": {},
   "source": [
    "### Exercícios:\n",
    "\n",
    "🟢 Sistema 1\n",
    "\n",
    "$x(t) \\xrightarrow{\\mathcal{H}} y(t) = \\sqrt{x(t-2)}$\n",
    "\n",
    "Este sistema é invariante no tempo? 🧐🧐🧐\n"
   ]
  },
  {
   "cell_type": "markdown",
   "metadata": {},
   "source": [
    "\n",
    "🟢 Verificação (no python):\n",
    "\n",
    "🔴 Sinal de entrada:\n",
    "\n",
    "$x(t) = t^2$"
   ]
  },
  {
   "cell_type": "code",
   "execution_count": null,
   "metadata": {},
   "outputs": [],
   "source": [
    "x = lambda t: t**2\n",
    "y = lambda t: np.sqrt(x(t-2))\n",
    "\n",
    "delay = 2\n",
    "\n",
    "plt.plot(t,y(t))\n",
    "plt.plot(t,y(t-delay))\n",
    "plt.legend([r'y(t)', r'y(t-2)'])\n",
    "plt.grid(linestyle='--')\n",
    "plt.show()"
   ]
  },
  {
   "cell_type": "markdown",
   "metadata": {},
   "source": [
    "🟢 Sistema 2\n",
    "\n",
    "$x(t) \\xrightarrow{\\mathcal{H}} y(t) = sen(t)x(t-2)$\n",
    "\n",
    "🟢 Verificação (no python):"
   ]
  },
  {
   "cell_type": "code",
   "execution_count": null,
   "metadata": {},
   "outputs": [],
   "source": [
    "y = lambda t: np.sin(t)*x(t-2)\n",
    "\n",
    "delay = 2\n",
    "\n",
    "plt.plot(t,y(t))\n",
    "plt.plot(t,y(t-delay))\n",
    "plt.legend([r'y(t)', r'y(t-2)'])\n",
    "plt.grid(linestyle='--')\n",
    "plt.show()"
   ]
  },
  {
   "cell_type": "markdown",
   "metadata": {},
   "source": [
    "### Sistemas LIT\n",
    "\n",
    "Sistemas Lineares e invariantes no tempo recebem uma denominação especial. Eles são chamados de sistemas LIT.\n",
    "\n",
    "Circuitos RLC, por exemplo, são geralmente tratados como sistemas LIT em análises teóricas sob condições ideais. Contudo, na prática, é importante considerar as limitações e condições específicas do sistema.\n",
    "\n",
    "Nós iremos explorar as características de sistemas LIT no decorrer desta disciplina.\n",
    "\n"
   ]
  }
 ],
 "metadata": {
  "kernelspec": {
   "display_name": "aulas",
   "language": "python",
   "name": "python3"
  },
  "language_info": {
   "codemirror_mode": {
    "name": "ipython",
    "version": 3
   },
   "file_extension": ".py",
   "mimetype": "text/x-python",
   "name": "python",
   "nbconvert_exporter": "python",
   "pygments_lexer": "ipython3",
   "version": "3.9.16"
  }
 },
 "nbformat": 4,
 "nbformat_minor": 4
}
