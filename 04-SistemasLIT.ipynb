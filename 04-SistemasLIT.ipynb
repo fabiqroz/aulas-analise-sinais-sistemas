{
 "cells": [
  {
   "cell_type": "markdown",
   "metadata": {},
   "source": [
    "# Sistemas lineares invariantes no tempo no domínio do tempo"
   ]
  },
  {
   "cell_type": "markdown",
   "metadata": {},
   "source": [
    "Nesta disciplina, consideraremos dois métodos de análise de sistemas lineares invariantes no tempo (LIT):\n",
    "* o método no domínio do tempo\n",
    "* o método no domínio da freqüência\n",
    "\n",
    "Vamos iniciar nossos estudos com a análise de sistemas lineares invariantes no tempo (LIT) no domínio do tempo."
   ]
  },
  {
   "cell_type": "markdown",
   "metadata": {},
   "source": []
  }
 ],
 "metadata": {
  "language_info": {
   "name": "python"
  }
 },
 "nbformat": 4,
 "nbformat_minor": 2
}
