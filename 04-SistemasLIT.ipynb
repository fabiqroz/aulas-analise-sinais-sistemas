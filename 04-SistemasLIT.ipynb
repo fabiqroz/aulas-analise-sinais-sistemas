{
 "cells": [
  {
   "cell_type": "markdown",
   "metadata": {},
   "source": [
    "# Sistemas lineares invariantes no tempo "
   ]
  },
  {
   "cell_type": "markdown",
   "metadata": {},
   "source": [
    "**Nesta disciplina, consideraremos:**\n",
    "\n",
    "1.  Dois métodos de análise de sistemas Lineares Invariantes no Tempo (LIT):\n",
    "    * o método no domínio do tempo\n",
    "    * o método no domínio da freqüência\n",
    "  \n",
    "Vamos iniciar nossos estudos com a análise de sistemas lineares invariantes no tempo (LIT) no domínio do tempo\n"
   ]
  },
  {
   "cell_type": "markdown",
   "metadata": {},
   "source": [
    "## Algumas observações úteis\n",
    "\n",
    "* Sendo este um sistema linear, sua resposta pode ser expressa como a soma de dois componentes:\n",
    "   \n",
    "**<h3 style=\"text-align: center;\">Resposta total = resposta entrada nula + resposta estado nulo</h3>**\n",
    "\n",
    "* A **componente de entrada nula** é a resposta do sistema quando a entrada $x(t) = 0$ e, portanto, é resultado somente das condições internas do sistema (tal como as energias armazenadas, as condições iniciais)\n",
    "* A **componente de estado nulo** é a resposta do sistema a entrada externa x(t) quando o sistema está em estado nulo, significando a ausência de qualquer energia interna armazenada: ou seja, todas as condições iniciais são zero.\n",
    "  \n",
    "  \n",
    "* Quase todos os sistemas observados **na prática** se tornam **não lineares** quando sinais grandes o suficiente são aplicados a eles.\n",
    "* Análise de sistemas não lineares é geralmente difícil. Não linearidades podem aparecer de tantas formas que descrevê-las por uma forma matemática comum é praticamente impossível.\n",
    "* A propriedade de superposição (linearidade) simplifica em muito a análise de sistemas lineares.\n",
    "* Devido à propriedade de decomposição, podemos calcular separadamente as duas componentes da saída. A c**omponente de entrada nula** pode ser calculada considerando a entrada igual a zero e **a componente de estado nulo** pode ser calculada assumindo condições iniciais nulas."
   ]
  },
  {
   "cell_type": "markdown",
   "metadata": {},
   "source": [
    "\n",
    "Escrever \n",
    "$$x(t) = a_1 x_1(t)+ a_2 x_2(t) +...+ a_m x_m(t)$$ \n",
    "e \n",
    "$$y(t) = a_1 y_1(t)+a_2 y_2(t)+...+ a_m y_m(t)$$\n",
    "\n",
    "onde onde $y_k(t)$ é a resposta de estado nulo a entrada $x_k(t)$, possui profundas implicações. Vejamos um exemplo:\n",
    "\n",
    "* Podemos aproximar $x(t)$ pela soma de pulsos retangulares de largura $\\delta t$ e alturas variáveis. A aproximação melhora quando $\\delta t \\rightarrow 0$, quando os pulsos retangulares se tornam impulsos $\\delta t$ segundos separados um dos outros (com  $\\delta t \\rightarrow 0$).\n",
    "* $x(t)$ é aproximada pela soma de funções degrau com amplitudes variando e espaçadas $\\delta t$ segundos uma da outra. A aproximação melhora\n",
    "quando $\\delta t$  se torna menor.\n",
    "\n",
    "<img src =\"figs/soma_impulsos.png\"  width = \"700\">\n",
    "\n",
    "Portanto, se conhecermos a resposta do sistema a entrada em  um impulso ou degrau unitário, podemos calcular a resposta do sistema a qualquer entrada $x(t)$ arbitrária com relativa facilidade. Portanto, a resposta do sistema é a soma de todas as respostas aos vários componentes de impulso! A análise do domínio do tempo (discutida nesta aula) utiliza essa abordagem!\n"
   ]
  },
  {
   "cell_type": "markdown",
   "metadata": {},
   "source": [
    "# Resposta $h(t)$ ao impulso unitário <a class=\"anchor\" id=\"chapter3\"></a>"
   ]
  },
  {
   "cell_type": "markdown",
   "metadata": {},
   "source": [
    "<!-- ## Antes de tudo, vamos a algumas definições matemáticas: \n",
    "\n",
    "1. Sistemas lineares diferenciais: entradas $x(t)$ e saídas $y(t)$ são relacionadas por equações difeenciais.\n",
    "\n",
    "$$\\frac{d^N y}{dt^N} + a_1 \\frac{d^{N-1} y}{dt^{N-1}} + . . . +  a_{N-1}\\frac{dy}{dt} + a_{N}y(t) = \\\\ = b_{N-M} \\frac{d^M x}{dt^M} + b_{N-M+1} \\frac{d^{M-1} x}{dt^{M-1}}+ . . . + b_{N} \\frac{dx}{dt} + b_{N}x(t)$$ \n",
    "\n",
    "Fazendo $\\frac{d}{dt}$, temos:\n",
    "\n",
    "$$(D^N + a_1 D^{N-1} + . . . + a_{N-1}D + a_{N})y(t) = \\\\ = b_{N-M} D^M + b_{N-M+1} D^{M-1} + . . . + b_{N} D + b_{N})x(t)$$\n",
    "\n",
    "ou\n",
    "\n",
    "$$Q(D)y(t) = P(D)x(y)$$\n",
    "\n",
    "1. $M$ e $N$ podem assumir qualquer valor, porém consideraremos $N>M$. Pois $M>N$ produz um diferenciador que torna o sistema instável e o ruído também é aumentado pelo diferenciador do sistema. No geral temos M=N. -->"
   ]
  },
  {
   "cell_type": "markdown",
   "metadata": {},
   "source": [
    "<!-- Agora, vamos discutir um método de determinação de $h(t)$, a resposta ao impulso unitário de um sistema LIT descrito pela equação diferencial com M=N:\n",
    "\n",
    "$$Q(D)y(t) = P(D)x(y) $$\n",
    "\n",
    "$$(D^N + a_1 D^{N-1} + . . . + a_{N-1}D + a_{N})y(t) = \\\\ = b_{0} D^N + b_1 D^{N-1} + . . . + b_{N-1} D + b_{N})x(t)$$ -->\n",
    "\n",
    "<!-- A resposta $h(t)$ ao impulso é a resposta do sistema a uma entrada impulsiva $\\delta (t)$ aplicada em $t = 0$, com todas as condições iniciais zero para $t = 0^{-}$. -->\n",
    "\n",
    "Uma entrada em impulso $\\delta (t)$ é como um raio, o qual atinge instantaneamente e então some. Mas em seu caminho, naquele momento singular, os objetos atingidos são reorganizados.\n",
    "Similarmente, uma entrada em impulso $\\delta (t)$ aparece momentaneamente em $t = 0$  e então desaparece para sempre.\n",
    "\n",
    "Considerando um sistema no estado nulo, podemos afirmar que \n",
    "\n",
    "$$y(t) = \\int_{-\\infty}^{\\infty} x(\\tau) h(t-\\tau) d\\tau$$ \n",
    "(ver cáculos no livro texto da disciplina - Lathi, capítulo 2)\n",
    "\n",
    "Este é o resultado que procuramos. Obtivemos a resposta do sistema y(t) a uma entrada arbitrária x(t) em termos\n",
    "da resposta h(t) do impulso unitário. Conhecendo h(t) podemos determinar a resposta y(t) a qualquer entrada. "
   ]
  },
  {
   "cell_type": "markdown",
   "metadata": {},
   "source": [
    "## A integral de convolução\n",
    "\n",
    "A resposta $y(t)$ de estado nulo obtida na euqção acima é dada por uma integral que aparece freqüentemente em ciências físicas, engenharia e matemática. Por essa razão, essa integral possui um nome especial: **integral de convolução**.\n",
    "\n",
    "A integral de convolução de duas funções $x_1(t)$ e $x_2(t)$ é representada simbolicamente por $x_1(t) * x_2(t)$, sendo definida por:\n",
    "\n",
    "$$x_1(t) * x_2(t) = \\int_{-\\infty}^{\\infty} x_1(\\tau) x_2(t-\\tau) d\\tau$$ \n",
    "\n"
   ]
  },
  {
   "cell_type": "markdown",
   "metadata": {},
   "source": [
    "### Como interpretar a integral de convolução graficamente?\n",
    "\n",
    "$$c(t) = \\int_{-\\infty}^{\\infty} x(\\tau) g(t-\\tau) d\\tau$$\n",
    "\n",
    "Suponhamos uma reflexão $\\phi (\\tau)$ para $g(\\tau)$, tal que $\\phi (\\tau) = g(-\\tau)$, tem-se que:\n",
    "\n",
    "$$\\phi(\\tau - t) = g[-(\\tau-t)] = g(t-\\tau)$$"
   ]
  },
  {
   "cell_type": "markdown",
   "metadata": {},
   "source": [
    "<img src =\"figs/convolucao.png\"  width = \"700\">\n"
   ]
  },
  {
   "cell_type": "markdown",
   "metadata": {},
   "source": [
    "### Algoritmo da convolução:\n",
    "\n",
    "<img src =\"figs/conv_alg.png\"  width = \"700\">"
   ]
  },
  {
   "cell_type": "markdown",
   "metadata": {},
   "source": [
    "\n",
    "\n",
    "Possui as seguintes propriedades:\n",
    "\n",
    "* Comutativa: $x_1(t) * x_2(t) = x_2(t) * x_1(t)$\n",
    "* Distributiva: $x_1(t) * [x_2(t) + x_3(t)]  = x_1(t)*x_2(t) + x_1(t) * x_3(t)$\n",
    "* Associativa: $x_1(t) * [x_2(t) * x_3(t)]  = [x_1(t) * x_2(t)] * x_3(t)$\n",
    "* Propriedade do deslocamento: \n",
    "  Se $x_1(t) * x_2(t) = c(t)$, então $x_1(t)*x_2(t-T) = x_1(t-T)* x_2(t) = c(t-T)$\n",
    "\n",
    "  Algumas observações podem também ser extraídas:\n",
    "\n",
    "* A convolução de uma função $x(t)$ com o impulso unitário resulta na própria função $x(t)$. Pela definição da convolução\n",
    "  $$x(t)* \\delta(t) = x(t)$$\n",
    "* Se a duração (largura) de $x_1(t)$ e $x_2(t)$ forem finitas, dadas por $T_1$ e $T_2$, respectivamente, então a duração (largura) de $x_1(t) * x_2(t)$ será $T_1 + T_2$. \n",
    "  "
   ]
  },
  {
   "cell_type": "markdown",
   "metadata": {},
   "source": [
    "## Exercício 2.9\n"
   ]
  },
  {
   "cell_type": "markdown",
   "metadata": {},
   "source": []
  }
 ],
 "metadata": {
  "language_info": {
   "name": "python"
  }
 },
 "nbformat": 4,
 "nbformat_minor": 2
}
