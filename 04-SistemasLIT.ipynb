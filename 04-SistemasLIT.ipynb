{
 "cells": [
  {
   "cell_type": "markdown",
   "metadata": {},
   "source": [
    "# Sistemas lineares invariantes no tempo (em tempo contínuo)"
   ]
  },
  {
   "cell_type": "markdown",
   "metadata": {},
   "source": [
    "<a id=\"0\"></a> <br>\n",
    "\n",
    "# Conteúdo da aula\n",
    "1. [Introdução](#chapter1)     \n",
    "    <!-- 1. [O que são sinais e sistemas?](#section_1_1) \n",
    "    2. [Exemplos de sinais e sistemas](#section_1_2)  -->\n",
    " 2. [CResposta do sistema a condições internas: Resposta de entrada nula](#chapter2) \n",
    "    <!-- 1. [Notações matemáticas úteis](#section_2_1)\n",
    "    2. [Sinais contínuos e discretos no tempo](#section_2_2) \n",
    "    3. [Sinais analógicos e digitais](#section_2_3) \n",
    "    4. [Sinais periódicos e não periódicos](#section_2_4)\n",
    "    5. [Sinais determinísticos, caóticos e estocásticos](#section_2_5) -->\n",
    " 3. [A resposta $h(t)$ ao impulso unitário](#chapter_3)\n",
    "    <!-- 1. [Deslocamento](#section_3_1)\n",
    "    2. [Escalonamento](#section_3_2)\n",
    "    3. [Reversão](#section_3_3) -->\n",
    " 4. [Resposta do sistema à entrada externa: resposta de estado nulo](#chapter_4)\n",
    "    1. [A integral de convolução](#section_4_1)\n",
    "    2. [Entendimento Gráfico da Operação de Convolução](#section_4_2)\n",
    "    3. [Sistemas interconectados](#section_4_3)\n",
    "    4. [Uma Função muito Especial para Sistemas LCIT: a Exponencial de Duração Infinita $eˆ{st}$](#section_4_4)\n",
    "   \n"
   ]
  },
  {
   "cell_type": "markdown",
   "metadata": {},
   "source": [
    "# Introdução <a class=\"anchor\" id=\"chapter1\"></a>"
   ]
  },
  {
   "cell_type": "markdown",
   "metadata": {},
   "source": [
    "**Nesta disciplina, consideraremos:**\n",
    "\n",
    "1.  dois métodos de análise de sistemas Lineares Invariantes no Tempo (LIT):\n",
    "   * o método no domínio do tempo\n",
    "    * o método no domínio da freqüência\n",
    "Vamos iniciar nossos estudos com a análise de sistemas lineares invariantes no tempo (LIT) no domínio do tempo, para tempo contínuo.\n",
    "\n",
    "2. Sistemas lineares diferenciais: entradas $x(t)$ e saídas $y(t)$ relacionadas por equações difeenciais.\n",
    "\n",
    "$$\\frac{d^N y}{dt^N} + a_1 \\frac{d^{N-1} y}{dt^{N-1}} + . . . +  a_{N-1}\\frac{dy}{dt} + a_{N}y(t) = \\\\ = b_{N-M} \\frac{d^M x}{dt^M} + b_{N-M+1} \\frac{d^{M-1} x}{dt^{M-1}}+ . . . + b_{N} \\frac{dx}{dt} + b_{N}x(t)$$ \n",
    "\n",
    "Fazendo $\\frac{d}{dt}$, temos:\n",
    "\n",
    "$$(D^N + a_1 D^{N-1} + . . . + a_{N-1}D + a_{N})y(t) = \\\\ = b_{N-M} D^M + b_{N-M+1} D^{M-1} + . . . + b_{N} D + b_{N})x(t)$$\n",
    "\n",
    "ou\n",
    "\n",
    "$$Q(D)y(t) = P(D)x(y)$$\n",
    "\n",
    "3. $M$ e $N$ podem assumir qualquer valor, poreém consideraremos $N>M$. Pois $M>N$ produz um diferenciador que torna o sistema instável e o ruído também é aumentado pelo diferenciador do sistema.\n",
    "   \n",
    "4. Quanto a linearidade desse sistema, voce pode conferir a prova no capítulo 1 (Equação 2.1) do livro Sinais e sistemas lineares (Lathi). Sendo este um sistema linear, sua resposta pode ser expressa como a soma de dois componentes:\n",
    "   \n",
    "**<h3 style=\"text-align: center;\">Resposta total = resposta entrada nula + resposta estado nulo</h3>**\n",
    "\n",
    "* A **componente de entrada nula** é a resposta do sistema quando a entrada $x(t) = 0$ e, portanto, é resultado somente das condições internas do sistema (tal como as energias armazenadas, as condições iniciais)\n",
    "* A **componente de estado nulo** é a resposta do sistema a entrada externa x(t) quando o sistema está em estado nulo, significando a ausência de qualquer energia interna armazenada: ou seja, todas as condições iniciais são zero."
   ]
  },
  {
   "cell_type": "markdown",
   "metadata": {},
   "source": [
    "# Resposta do sistema a condições internas: resposta de entrada nula <a class=\"anchor\" id=\"chapter2\"></a>"
   ]
  },
  {
   "cell_type": "markdown",
   "metadata": {},
   "source": [
    "# Resposta $h(t)$ ao impulso unitário <a class=\"anchor\" id=\"chapter3\"></a>"
   ]
  },
  {
   "cell_type": "markdown",
   "metadata": {},
   "source": [
    "# Resposta do sistema a entrada externa: resposta de estado nulo <a class=\"anchor\" id=\"chapter4\"></a>"
   ]
  },
  {
   "cell_type": "markdown",
   "metadata": {},
   "source": []
  }
 ],
 "metadata": {
  "language_info": {
   "name": "python"
  }
 },
 "nbformat": 4,
 "nbformat_minor": 2
}
